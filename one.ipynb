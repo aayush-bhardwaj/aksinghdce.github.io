{
 "metadata": {
  "name": ""
 },
 "nbformat": 3,
 "nbformat_minor": 0,
 "worksheets": [
  {
   "cells": [
    {
     "cell_type": "heading",
     "level": 1,
     "metadata": {},
     "source": [
      "checkinio.org profile"
     ]
    },
    {
     "cell_type": "markdown",
     "metadata": {},
     "source": [
      "<iframe src=\"https://www.checkio.org/user/aksinghdce/\" width=100% height=\"300px\"></iframe>"
     ]
    },
    {
     "cell_type": "heading",
     "level": 1,
     "metadata": {},
     "source": [
      "Favorite blogs"
     ]
    },
    {
     "cell_type": "markdown",
     "metadata": {},
     "source": [
      "<iframe src=\"http://opensourceforu.efytimes.com/2015/08/open-source-and-problem-solving-attitude-is-the-way-to-work-at-zopper/\" width=100% height=\"400px\"></iframe>"
     ]
    }
   ],
   "metadata": {}
  }
 ]
}