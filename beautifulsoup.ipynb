{
 "metadata": {
  "name": ""
 },
 "nbformat": 3,
 "nbformat_minor": 0,
 "worksheets": [
  {
   "cells": [
    {
     "cell_type": "code",
     "collapsed": false,
     "input": [
      "import BeautifulSoup as bs\n",
      "with open(\"one.html\", \"r\") as f:\n",
      "    soup = bs.BeautifulSoup(f.read())\n",
      "body = soup.body"
     ],
     "language": "python",
     "metadata": {},
     "outputs": [],
     "prompt_number": 123
    },
    {
     "cell_type": "code",
     "collapsed": false,
     "input": [
      "body.div"
     ],
     "language": "python",
     "metadata": {},
     "outputs": [
      {
       "metadata": {},
       "output_type": "pyout",
       "prompt_number": 127,
       "text": [
        "<div class=\"text_cell_render border-box-sizing rendered_html\">\n",
        "<h1 id=\"checkinio.org-profile\">checkinio.org profile<a class=\"anchor-link\" href=\"#checkinio.org-profile\">&#182;</a></h1>\n",
        "</div>"
       ]
      }
     ],
     "prompt_number": 127
    },
    {
     "cell_type": "code",
     "collapsed": false,
     "input": [
      "html = soup.prettify('utf-8')\n",
      "with open(\"one.html\", \"wb\") as f:\n",
      "    f.write(html)"
     ],
     "language": "python",
     "metadata": {},
     "outputs": [],
     "prompt_number": 70
    },
    {
     "cell_type": "code",
     "collapsed": false,
     "input": [],
     "language": "python",
     "metadata": {},
     "outputs": []
    }
   ],
   "metadata": {}
  }
 ]
}