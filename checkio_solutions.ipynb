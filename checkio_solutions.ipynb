{
 "metadata": {
  "name": ""
 },
 "nbformat": 3,
 "nbformat_minor": 0,
 "worksheets": [
  {
   "cells": [
    {
     "cell_type": "heading",
     "level": 1,
     "metadata": {},
     "source": [
      "checkio.org problems with pythontutor"
     ]
    },
    {
     "cell_type": "heading",
     "level": 2,
     "metadata": {},
     "source": [
      "1. Count Word"
     ]
    },
    {
     "cell_type": "markdown",
     "metadata": {},
     "source": [
      "<iframe width=100% height=\"500\" frameborder=\"0\" src=\"http://pythontutor.com/iframe-embed.html#code=%23!/usr/bin/env+python%0Aimport+re%0A%0A%0AVOWELS+%3D+%22AEIOUY%22%0ACONSONANTS+%3D+%22BCDFGHJKLMNPQRSTVWXZ%22%0A%0Adef+is_alternating_vc(word%29%3A%0A++++for+i+in+range(len(word%29+-+1%29%3A%0A++++++++if+word%5Bi%5D+in+VOWELS+and+word%5Bi%2B1%5D+in+VOWELS%3A%0A++++++++++++return+False%0A++++++++if+word%5Bi%5D+in+CONSONANTS+and+word%5Bi%2B1%5D+in+CONSONANTS%3A%0A++++++++++++return+False%0A++++return+True%0A%0A%0Adef+checkio(text%29%3A%0A++++%22%22%22count+real+words%22%22%22%0A++++count+%3D+0%0A++++%23+get+the+words+in+upper+case%0A++++text+%3D+text.upper(%29%0A++++%23+split+on+punctuations%0A++++text2+%3D+re.split(ur'%5CW',+text%29%0A++++for+word+in+text2%3A%0A++++++++m+%3D+re.match(ur'%5BA-Za-z%5D*%5Cd%5BA-Za-z%5D*',+word%29%0A++++++++if+len(word%29+%3E+1+and+is_alternating_vc(word%29+and+not+m%3A%0A++++++++++++count+%2B%3D+1%0A++++return+count%0A%0A%23+These+%22asserts%22+using+only%0A%23+for+self-checking+and+not+necessary+for+auto-testing%0Aif+__name__+%3D%3D+'__main__'%3A%0A++++assert+checkio(u%22My+name+is+...%22%29+%3D%3D+3,+%22All+words+are+striped%22%0A++++assert+checkio(u%22Hello+world%22%29+%3D%3D+0,+%22No+one%22%0A++++assert+checkio(u%22A+quantity+of+striped+words.%22%29+%3D%3D+1,+%22Only+of%22%0A++++assert+checkio(u%22Dog,cat,mouse,bird.Human.%22%29+%3D%3D+3,+%22Dog,+cat+and+human%22%0A&origin=opt-frontend.js&cumulative=false&heapPrimitives=false&textReferences=false&py=2&rawInputLstJSON=%5B%5D&curInstr=4&codeDivWidth=350&codeDivHeight=400\"> </iframe>"
     ]
    },
    {
     "cell_type": "code",
     "collapsed": false,
     "input": [],
     "language": "python",
     "metadata": {},
     "outputs": []
    }
   ],
   "metadata": {}
  }
 ]
}