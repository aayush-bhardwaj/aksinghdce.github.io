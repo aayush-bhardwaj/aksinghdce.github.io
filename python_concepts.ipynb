{
 "metadata": {
  "name": ""
 },
 "nbformat": 3,
 "nbformat_minor": 0,
 "worksheets": [
  {
   "cells": [
    {
     "cell_type": "heading",
     "level": 1,
     "metadata": {},
     "source": [
      "Python concepts"
     ]
    },
    {
     "cell_type": "heading",
     "level": 2,
     "metadata": {},
     "source": [
      "use getattr to access methods of objects by name."
     ]
    },
    {
     "cell_type": "markdown",
     "metadata": {},
     "source": [
      "<iframe src=\"http://www.diveintopython.net/power_of_introspection/getattr.html\" width=100% height=\"400px\"></iframe>"
     ]
    },
    {
     "cell_type": "heading",
     "level": 2,
     "metadata": {},
     "source": [
      "use (1 and [a] or[b])[0] to mimic bool ?a:b"
     ]
    },
    {
     "cell_type": "markdown",
     "metadata": {},
     "source": [
      "<iframe src=\"http://www.diveintopython.net/power_of_introspection/and_or.html\" width=100% height=\"400px\"></iframe>"
     ]
    },
    {
     "cell_type": "heading",
     "level": 2,
     "metadata": {},
     "source": [
      " __init__ methods are optional, but when you define one, you must remember to explicitly call the ancestor's __init__ method (if it defines one)."
     ]
    },
    {
     "cell_type": "markdown",
     "metadata": {},
     "source": [
      "<iframe src=\"http://www.diveintopython.net/object_oriented_framework/defining_classes.html#d0e11896\" width=100% height=\"400px\"></iframe>"
     ]
    }
   ],
   "metadata": {}
  }
 ]
}