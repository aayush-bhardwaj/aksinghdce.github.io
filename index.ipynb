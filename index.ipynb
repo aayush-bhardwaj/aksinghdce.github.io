{
 "metadata": {
  "name": ""
 },
 "nbformat": 3,
 "nbformat_minor": 0,
 "worksheets": [
  {
   "cells": [
    {
     "cell_type": "heading",
     "level": 1,
     "metadata": {},
     "source": [
      "Beyond Degree"
     ]
    },
    {
     "cell_type": "markdown",
     "metadata": {},
     "source": [
      "<div data-role=\"header\">\n",
      "\n",
      "<div data-role=\"navbar\">\n",
      "  <ul>\n",
      "  <li><a href=\"checkio_solutions.html\"> CheckIo </a></li>\n",
      "  <li><a href=\"python_concepts.html\"> Concepts </a></li>\n",
      "  </ul>\n",
      "\n",
      "</div>\n",
      "\n",
      "</div>"
     ]
    },
    {
     "cell_type": "heading",
     "level": 2,
     "metadata": {},
     "source": [
      "About"
     ]
    },
    {
     "cell_type": "raw",
     "metadata": {},
     "source": [
      "Its a group of industry experts working in various professional domains (open source and academics only); these domains have a never-seen-before destitution of skilled work force. We pick skilled professionals from these domains to form a teaching group. We learn together as a team and focus on each participant's career development using a data analytics algorithm.\n",
      "\n",
      "Our mission is to provide quality professionals to the industry; and from the industry. And we mean it."
     ]
    },
    {
     "cell_type": "heading",
     "level": 2,
     "metadata": {},
     "source": [
      "What we do?"
     ]
    },
    {
     "cell_type": "raw",
     "metadata": {},
     "source": [
      "We meet regularly like a fun group. One of us professionals presents his lecture and provides assignments. Our secret recipe is to design these lectures. We provide a complete professional development ecosystem and a closed professional group."
     ]
    },
    {
     "cell_type": "raw",
     "metadata": {},
     "source": [
      "We build fun and creative web applications for ourselves. And we are ofcourse available for hire as individual professionals."
     ]
    },
    {
     "cell_type": "markdown",
     "metadata": {},
     "source": [
      "<iframe src=\"files/mentor-copy-copy.html\" width=1126px height=1173px></iframe>"
     ]
    },
    {
     "cell_type": "heading",
     "level": 1,
     "metadata": {},
     "source": [
      "Event: Launch ceremony with introduction lecture by industry experts"
     ]
    },
    {
     "cell_type": "heading",
     "level": 2,
     "metadata": {},
     "source": [
      "Case studies of software startups"
     ]
    },
    {
     "cell_type": "heading",
     "level": 2,
     "metadata": {},
     "source": [
      "Case studies of python programming language"
     ]
    },
    {
     "cell_type": "heading",
     "level": 2,
     "metadata": {},
     "source": [
      "Case studies of Javascript"
     ]
    },
    {
     "cell_type": "heading",
     "level": 2,
     "metadata": {},
     "source": [
      "Case studies of Big Data technologies based startups"
     ]
    },
    {
     "cell_type": "heading",
     "level": 2,
     "metadata": {},
     "source": [
      "Case studies of IoT"
     ]
    }
   ],
   "metadata": {}
  }
 ]
}