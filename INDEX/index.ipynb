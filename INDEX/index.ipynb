{
 "cells": [
  {
   "cell_type": "markdown",
   "metadata": {},
   "source": [
    "# Learner Mentor Collaboration"
   ]
  },
  {
   "cell_type": "markdown",
   "metadata": {},
   "source": [
    "## About"
   ]
  },
  {
   "cell_type": "raw",
   "metadata": {},
   "source": [
    "Its a group of industry experts working in various professional domains (open source and academics only); these domains have a never-seen-before destitution of skilled work force. We pick skilled professionals from these domains to form a teaching group. We learn together as a team and focus on each participant's career development using a data analytics algorithm.\n",
    "\n",
    "Our mission is to provide quality professionals to the industry; and from the industry. And we mean it."
   ]
  },
  {
   "cell_type": "markdown",
   "metadata": {},
   "source": [
    "## What we do?"
   ]
  },
  {
   "cell_type": "raw",
   "metadata": {},
   "source": [
    "We meet regularly like a fun group. One of us professionals presents his lecture and provides assignments. Our secret recipe is to design these lectures. We provide a complete professional development ecosystem and a closed professional group."
   ]
  },
  {
   "cell_type": "raw",
   "metadata": {},
   "source": [
    "We build fun and creative web applications for ourselves. And we are ofcourse available for hire as individual professionals."
   ]
  },
  {
   "cell_type": "raw",
   "metadata": {},
   "source": [
    "The diagram below represents a use case of our framework. The framework is designed to be intuitive for both learners and mentors. Attempts would be made to quantify the progress of the learner to give a sense of feedback to the mentor."
   ]
  },
  {
   "cell_type": "markdown",
   "metadata": {},
   "source": [
    "<img src=\"files/html-docs/diagrams/ActivityDiagram.svg\"></img>"
   ]
  },
  {
   "cell_type": "markdown",
   "metadata": {
    "collapsed": false
   },
   "source": [
    "# Learning is a process"
   ]
  },
  {
   "cell_type": "raw",
   "metadata": {},
   "source": [
    "Learning process goes like a multilevel hierarchy of information gathering. You got to manage and organize your learnings. You also got to be able to look up your own knowledge store when you need to apply a certain skill of yours in the real practical scenario at hand.\n",
    "\n",
    "The web application we are developing has few ideas that we need to test while developing this collaborative learning platform. The ideas are:\n",
    "\n",
    "1. Use Fibonacci patterns to visualize the learnt material:\n",
    "\n",
    "As we understand from scientific researches that nature follows golden ratio. Some sophisticated plants have been identified to show growth pattern that goes in congruence with golden ratio (this is directly related to fibonacci sequence). The idea is to add new information in a chunk that is in a golden ratio with existing information that we are building upon.\n",
    "\n",
    "On top of that the knowledge, although abstract, got to do something with tangibles; the real world. In order to look up your knowledge base, it should be intuitive to you to browse through your knowledge like you breathe effortlessly. This effortless look up would only come if you could associate your abstract knowledge with examples from your own life experiences.\n",
    "\n",
    "2. Practice the learnt material using spatial repetition technique:\n",
    "\n",
    "Practice is another equally important aspect of learning. With practice you make your memory stronger and stronger. One researched technique which is related to good memory is spatial repetition.\n",
    "\n",
    "The idea is to challenge the analytical skills of a learner to retreive and apply the knowledge into practical problem domains.\n",
    "\n",
    "Personalized quizes and application of knowledge in hypothetical scenarios.\n",
    "\n",
    "3. Creativity and inspiration:\n",
    "\n",
    "A learner must be kept inspired to learn. Attributes of inspiration are:\n",
    "a) Showcase tangible applications of abstract skills of peers and mentors.\n",
    "b) Career development, monetory benefits and sense of achievement.\n",
    "c) Involvement, support and drive of a strong mentor community.\n",
    "\n",
    "To inspire the learners and mentors we need to showcase contributions by the peers. May be associate scores with contributions to quantify the learning and mentoring efforts."
   ]
  },
  {
   "cell_type": "raw",
   "metadata": {},
   "source": [
    "An individual learning page looks like this"
   ]
  },
  {
   "cell_type": "markdown",
   "metadata": {},
   "source": [
    "<img src=\"files/html-docs/diagrams/data_model.svg\"></img>"
   ]
  },
  {
   "cell_type": "raw",
   "metadata": {},
   "source": [
    "The Blogs are used to generate Quizes. Quizes can be collected from the internet by contributers. Another way how this can work is to begin with problems to be solved, followed by a set of skills to be learnt to solve these problems.\n",
    "\n",
    "Quizes are attributed with a fibonacci number, this number signifies the importance of the question for the individual. Quiz questions would be compiled into a test. Based upon the answers to the test questions, attributes would be updated.\n",
    "\n",
    "These attributes are utilized by the patial repition engine to manage the learning process of the member."
   ]
  },
  {
   "cell_type": "markdown",
   "metadata": {},
   "source": [
    "<img src=\"files/html-docs/diagrams/memory_test.svg\"></img>"
   ]
  },
  {
   "cell_type": "raw",
   "metadata": {},
   "source": [
    "Inspiration engine keeps presenting fresh blogs off of the internet to keep the creative fluid flowing"
   ]
  },
  {
   "cell_type": "markdown",
   "metadata": {},
   "source": [
    "<img src=\"files/html-docs/diagrams/inspiration_engine.svg\"></img>"
   ]
  },
  {
   "cell_type": "raw",
   "metadata": {},
   "source": [
    "Core Idea:\n",
    "\n",
    "The idea is to connect teachers with students. Some teachers teach for mere joy of teaching, they don't need a lot of money to live. We want to make teaching a universality in India and we want to make teachers earn money as much as they can. If they want to donate some of that money to us as an institution, to bring them quality students through our unique set of business rules. The business rules, is our core idea.\n",
    "\n",
    "We take some students from the community(with low family income) to great teachers among you. We bear their tuition fee as a registered NGO. We record the teaching methodologies and post them on youtube under our channel to gain revenue. \n",
    "\n",
    "Whats in it for teachers:\n",
    "We share the revenue with teachers as partners. Also, we rate the teachers through our company's web application and bring students to them who don't mind paying a moderate tuition fee.\n",
    "\n",
    "The software design is our key."
   ]
  },
  {
   "cell_type": "raw",
   "metadata": {},
   "source": [
    "Revenue model:\n",
    "\n",
    "1. YouTube channel: Deliverables (D) = Structured and quality(maintaining quality of our work would give value to our company and determine if the company sees another morning) video(teaching(anything) videos); controlled by rating and associated prizes(promotional items(free advertisements for their products, restaurant promotion voutures, %discounts on promotional items(we might have to do negotiations with the brands later in the process) (the kind of things they sell in radio), and provide a model to be associated with our company the way taxi companies(and drivers) are associated with uber and ola).\n",
    "\n",
    "2. If a teacher gets high rating, the teacher can publish his/her videos through KhanAcademy and add students in his coach profile. The teacher can choose to charge a nominal money (need to work on this).\n",
    "\n"
   ]
  },
  {
   "cell_type": "raw",
   "metadata": {},
   "source": [
    "Operational activities:\n",
    "\n",
    "1. P1 : Think of a name of NGO\n",
    "2. P2 : hire volunteers to collect media:\n",
    "              Organize events:\n",
    "                     Pottery promotion and learning event (opportunity to showcase photography and videography skills). Please record video while learning pottery. Work displayed in an exclusive event (invite philanthropists to honor the purpose) keep it philanthropy oriented and see how much is the turn-out.\n",
    "                     Record the whole process of organizing the event and the event itself and publish through a) YouTube channel.\n",
    "                     Through these YouTube videos, people can learn the skills online for free and if they want they can learn with the artist in person if the artist is interested.\n",
    "                     Photographers can learn and improve their skills among each other and if they want they can promote themselves as a teacher by posting their own teaching skills.\n",
    "                     \n",
    "At the end of the YouTube exercise we would have enough number of people to pick from for our Ted Event that we can organize. (Research about this)\n",
    "b) TedTalks. Reach out to find out people with extraordinary skills and organize Ted events to make vocational skills cool in Indian society.\n",
    "c) Record our own work sessions to post videos on YouTube : The idea is to keep making content for YouTube with the purpose of promoting Vocational Training in India. Do DIY projects, find out people who do DIY projects, ask them if they want to contribute his videos or get his own work promoted through us. Just record anything that teaches some or other skill, improve their quality and post them on our channel.\n",
    "                     \n",
    "                     \n",
    "                     "
   ]
  },
  {
   "cell_type": "raw",
   "metadata": {},
   "source": [
    "Programming:\n",
    "    \n",
    "    1. Get vocational training videos from YouTube using the library:\n",
    "     PAFY, that provides the following ingredients!! to do our data recipy to cook something tasty:\n",
    "     \n",
    "Retreive metadata such as viewcount, duration, rating, author, thumbnail, keywords\n",
    "Download video or audio at requested resolution / bitrate / format / filesize\n",
    "Command line tool (ytdl) for downloading directly from the command line\n",
    "Retrieve the URL to stream the video in a player such as vlc or mplayer\n",
    "Works with age-restricted videos and non-embeddable videos\n",
    "Small, standalone, single importable module file (pafy.py)\n",
    "Select highest quality stream for download or streaming\n",
    "Download video only (no audio) in m4v or webm format\n",
    "Download audio only (no video) in ogg or m4a format\n",
    "Retreive playlists and playlist metadata\n",
    "Works with Python 2.6+ and 3.3+\n",
    "Depends on youtube-dl\n",
    "\n",
    "promote these videos through our Facebook page, Google+ page, Instagram page, GitHub page.\n",
    "\n",
    "Problem description:\n",
    "Collect videos based on Catagory: #Education > #PrimaryAndSecondaryEducation\n",
    "                                                 > #Mathematics\n",
    "                                                    > #Statistics\n",
    "                                                        > #Playlists\n",
    "                                                          > #Videos\n",
    "                                                        > #Videos\n",
    "                                                        > #Channels\n",
    "                                                           > #Videos\n",
    "                                                           > #Playlists\n",
    "                                                             > #Videos\n",
    "                                             > #University\n",
    "                                             > #LifeLongLearning\n",
    "                                             \n",
    "                                             \n",
    "Prepare video metadata and with some automation and strategies prepare a webpage to teach a particular skill.\n",
    "\n",
    "Lets see what all we can do with the metadata collected.\n",
    "\n",
    "After doing this exercise we huddle-up to prepare our course of action for the web pages thus designed.\n",
    "\n",
    "An example video:"
   ]
  },
  {
   "cell_type": "code",
   "execution_count": 5,
   "metadata": {
    "collapsed": false
   },
   "outputs": [
    {
     "data": {
      "text/html": [
       "\n",
       "        <iframe\n",
       "            width=\"400\"\n",
       "            height=\"300\"\n",
       "            src=\"https://www.youtube.com/embed/https://www.youtube.com/watch?v=WRiUQfc7_24&index=20&list=PLf8s9Ul-L6Iof4cZMouk-EkYXnIL7nULa\"\n",
       "            frameborder=\"0\"\n",
       "            allowfullscreen\n",
       "        ></iframe>\n",
       "        "
      ],
      "text/plain": [
       "<IPython.lib.display.YouTubeVideo at 0x3eac0f0>"
      ]
     },
     "execution_count": 5,
     "metadata": {},
     "output_type": "execute_result"
    }
   ],
   "source": [
    "from IPython.display import YouTubeVideo\n",
    "BenglaStaticsAverage = YouTubeVideo(\"https://www.youtube.com/watch?v=WRiUQfc7_24&index=20&list=PLf8s9Ul-L6Iof4cZMouk-EkYXnIL7nULa\")\n",
    "BenglaStaticsAverage"
   ]
  },
  {
   "cell_type": "raw",
   "metadata": {},
   "source": [
    "Project 1:\n",
    "The above video is in Bengali. We can inspire more Bengali, Kannada, Tamil, Telugu teachers to make students understand a concept in their mother tongue.\n",
    "Gather these videos under on strategic learning curriculum and connect teachers with students."
   ]
  },
  {
   "cell_type": "raw",
   "metadata": {},
   "source": [
    "The above method is to create value out of displaying a complete playlist like the following. Think of a complete playlist as a set of data. We can add value to this data by organizing it to train a community."
   ]
  },
  {
   "cell_type": "code",
   "execution_count": 10,
   "metadata": {
    "collapsed": true
   },
   "outputs": [],
   "source": [
    "statistics_playlist = YouTubeVideo(\"https://www.youtube.com/playlist?list=PLf8s9Ul-L6Iof4cZMouk-EkYXnIL7nULa\")"
   ]
  },
  {
   "cell_type": "code",
   "execution_count": 11,
   "metadata": {
    "collapsed": false
   },
   "outputs": [
    {
     "data": {
      "text/html": [
       "\n",
       "        <iframe\n",
       "            width=\"400\"\n",
       "            height=\"300\"\n",
       "            src=\"https://www.youtube.com/embed/https://www.youtube.com/playlist?list=PLf8s9Ul-L6Iof4cZMouk-EkYXnIL7nULa\"\n",
       "            frameborder=\"0\"\n",
       "            allowfullscreen\n",
       "        ></iframe>\n",
       "        "
      ],
      "text/plain": [
       "<IPython.lib.display.YouTubeVideo at 0x3eac710>"
      ]
     },
     "execution_count": 11,
     "metadata": {},
     "output_type": "execute_result"
    }
   ],
   "source": [
    "statistics_playlist"
   ]
  },
  {
   "cell_type": "raw",
   "metadata": {},
   "source": [
    "We would publish quality videos on our home page. Need to list down a bunch of attributes of quality video and some metrics to categorize the videos and other contents from across the internet for students to learn and monitor their learning activities."
   ]
  },
  {
   "cell_type": "raw",
   "metadata": {},
   "source": [
    "Another example: Under \n",
    "#Education > #PrimaryAndSecondaryEducation > #History > #WorldHistory"
   ]
  },
  {
   "cell_type": "code",
   "execution_count": 20,
   "metadata": {
    "collapsed": true
   },
   "outputs": [],
   "source": [
    "worldhistory = YouTubeVideo(\"https://www.youtube.com/playlist?list=PLB-Lv26C8inrClOc0g7RHUGpgX3DScIEU\")"
   ]
  },
  {
   "cell_type": "code",
   "execution_count": 21,
   "metadata": {
    "collapsed": false
   },
   "outputs": [
    {
     "data": {
      "text/html": [
       "\n",
       "        <iframe\n",
       "            width=\"400\"\n",
       "            height=\"300\"\n",
       "            src=\"https://www.youtube.com/embed/https://www.youtube.com/playlist?list=PLB-Lv26C8inrClOc0g7RHUGpgX3DScIEU\"\n",
       "            frameborder=\"0\"\n",
       "            allowfullscreen\n",
       "        ></iframe>\n",
       "        "
      ],
      "text/plain": [
       "<IPython.lib.display.YouTubeVideo at 0x3eacc18>"
      ]
     },
     "execution_count": 21,
     "metadata": {},
     "output_type": "execute_result"
    }
   ],
   "source": [
    "worldhistory"
   ]
  },
  {
   "cell_type": "raw",
   "metadata": {},
   "source": [
    "# Code 1: Organize the Educational data on YouTube in a Visual pattern so as to provide a great learning experience for \n",
    "# Kids in India\n",
    "\n",
    "These playlists are auto generated by YouTube, as the following line conveys:\n",
    "\n",
    "\"\n",
    " Description\n",
    "\n",
    "Whether you're doing research for a project, need help with homework, or just want to learn something new, YouTube EDU features some of our most popular educational videos across YouTube.\n",
    "\n",
    "This channel was generated automatically by YouTube's video discovery system.\n",
    "\n",
    "\"\n",
    "\n",
    "Thus, its feasible with some manual labor to organize a set of matrices to compile a study patterns for teachers in order for them to teach children in their locality."
   ]
  },
  {
   "cell_type": "code",
   "execution_count": null,
   "metadata": {
    "collapsed": true
   },
   "outputs": [],
   "source": []
  }
 ],
 "metadata": {
  "kernelspec": {
   "display_name": "Python 2",
   "language": "python",
   "name": "python2"
  },
  "language_info": {
   "codemirror_mode": {
    "name": "ipython",
    "version": 2
   },
   "file_extension": ".py",
   "mimetype": "text/x-python",
   "name": "python",
   "nbconvert_exporter": "python",
   "pygments_lexer": "ipython2",
   "version": "2.7.9"
  }
 },
 "nbformat": 4,
 "nbformat_minor": 0
}
